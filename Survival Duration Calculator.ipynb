{
 "cells": [
  {
   "cell_type": "code",
   "execution_count": 1,
   "id": "f71e17cc",
   "metadata": {},
   "outputs": [
    {
     "name": "stdout",
     "output_type": "stream",
     "text": [
      "Hello Friends, Welcome to My Survival Duration calculator\n",
      "Please Enter your age50\n",
      "Hey! Your age in Month is:  600\n",
      "Hey! Your age in Weeks is:  2600\n",
      "Hey! Your age in Days is:  18250\n",
      "Hey! Your age in Hour is:  438000\n",
      "Hey! Your age in Minutes is:  26280000\n",
      "Hey! Your age in Seconds is:  1576800000\n",
      "Hey! Decade you live is:  5.0\n"
     ]
    }
   ],
   "source": [
    "x='Hello Friends, Welcome to My Survival Duration calculator'\n",
    "print(x)\n",
    "user=int(input('Please Enter your age'))\n",
    "Month=user*(12)\n",
    "Week=user*(52)\n",
    "Day=user*(365)\n",
    "Hour=user*(365*24)\n",
    "Minute=user*(365*24*60)\n",
    "Second=user*(365*24*60*60)\n",
    "Decade=user/(10)\n",
    "print('Hey! Your age in Month is: ',Month)\n",
    "print('Hey! Your age in Weeks is: ',Week)\n",
    "print('Hey! Your age in Days is: ',Day)\n",
    "print('Hey! Your age in Hour is: ',Hour)\n",
    "print('Hey! Your age in Minutes is: ',Minute)\n",
    "print('Hey! Your age in Seconds is: ',Second)\n",
    "print('Hey! Decade you live is: ',Decade)"
   ]
  },
  {
   "cell_type": "code",
   "execution_count": null,
   "id": "ddc3a431",
   "metadata": {},
   "outputs": [],
   "source": []
  },
  {
   "cell_type": "code",
   "execution_count": null,
   "id": "a910b2f2",
   "metadata": {},
   "outputs": [],
   "source": []
  }
 ],
 "metadata": {
  "kernelspec": {
   "display_name": "Python 3 (ipykernel)",
   "language": "python",
   "name": "python3"
  },
  "language_info": {
   "codemirror_mode": {
    "name": "ipython",
    "version": 3
   },
   "file_extension": ".py",
   "mimetype": "text/x-python",
   "name": "python",
   "nbconvert_exporter": "python",
   "pygments_lexer": "ipython3",
   "version": "3.11.4"
  }
 },
 "nbformat": 4,
 "nbformat_minor": 5
}
